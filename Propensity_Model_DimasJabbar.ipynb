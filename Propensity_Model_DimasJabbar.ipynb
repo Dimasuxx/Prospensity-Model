{
  "nbformat": 4,
  "nbformat_minor": 0,
  "metadata": {
    "colab": {
      "provenance": [],
      "toc_visible": true
    },
    "kernelspec": {
      "name": "python3",
      "display_name": "Python 3"
    },
    "language_info": {
      "name": "python"
    }
  },
  "cells": [
    {
      "cell_type": "markdown",
      "source": [
        "#Import Library"
      ],
      "metadata": {
        "id": "dLaNbIcyf3zJ"
      }
    },
    {
      "cell_type": "code",
      "source": [
        "from google.colab import drive\n",
        "drive.mount('/content/drive')"
      ],
      "metadata": {
        "id": "BIYmGVrErBuf"
      },
      "execution_count": null,
      "outputs": []
    },
    {
      "cell_type": "code",
      "source": [
        "# Import Basic and most-used Libraries\n",
        "import numpy as np\n",
        "import pandas as pd\n",
        "import seaborn as sns\n",
        "import matplotlib.pyplot as plt\n",
        "\n",
        "from google.colab import auth\n",
        "import gspread\n",
        "from google.auth import default\n",
        "\n",
        "from sklearn.preprocessing import LabelEncoder\n",
        "from sklearn.model_selection import train_test_split\n",
        "from sklearn.ensemble import ExtraTreesClassifier\n",
        "from sklearn import preprocessing\n",
        "from sklearn.ensemble import RandomForestClassifier\n",
        "from sklearn.metrics import classification_report,accuracy_score\n",
        "from sklearn.metrics import ConfusionMatrixDisplay\n",
        "from sklearn.model_selection import RandomizedSearchCV"
      ],
      "metadata": {
        "id": "IQzHIy8PEqiL"
      },
      "execution_count": null,
      "outputs": []
    },
    {
      "cell_type": "code",
      "source": [
        "from sklearn.model_selection import train_test_split, GridSearchCV, StratifiedKFold\n",
        "from sklearn.metrics import accuracy_score, precision_score, recall_score, f1_score, confusion_matrix, classification_report\n",
        "\n",
        "from sklearn.compose import ColumnTransformer\n",
        "from sklearn.pipeline import Pipeline\n",
        "from sklearn.impute import SimpleImputer\n",
        "\n",
        "from sklearn.preprocessing import RobustScaler, OneHotEncoder\n",
        "\n",
        "from sklearn.neighbors import KNeighborsClassifier\n",
        "from sklearn.svm import SVC\n",
        "from sklearn.linear_model import LogisticRegression\n",
        "from sklearn.tree import DecisionTreeClassifier\n",
        "from sklearn.ensemble import RandomForestClassifier\n",
        "import xgboost as xgb"
      ],
      "metadata": {
        "id": "vQcY78oouK6D"
      },
      "execution_count": null,
      "outputs": []
    },
    {
      "cell_type": "markdown",
      "source": [
        "#Import Dataset"
      ],
      "metadata": {
        "id": "CH6pGp0of_vu"
      }
    },
    {
      "cell_type": "code",
      "source": [
        "#autenticating to google\n",
        "auth.authenticate_user()\n",
        "creds, _ = default()\n",
        "gc = gspread.authorize(creds)"
      ],
      "metadata": {
        "id": "oeehDZohOQRZ"
      },
      "execution_count": null,
      "outputs": []
    },
    {
      "cell_type": "code",
      "source": [
        "sh = gc.open_by_url(\"...\")\n",
        "ws = sh.worksheet('Sheet2')"
      ],
      "metadata": {
        "id": "bLXMVyJKBY18"
      },
      "execution_count": null,
      "outputs": []
    },
    {
      "cell_type": "code",
      "source": [
        "df = pd.DataFrame(ws.get_all_records())\n",
        "pd.set_option(\"display.max_columns\", None)\n",
        "df.head()"
      ],
      "metadata": {
        "id": "BhE6-0XioTNH"
      },
      "execution_count": null,
      "outputs": []
    },
    {
      "cell_type": "code",
      "source": [
        "df.info()"
      ],
      "metadata": {
        "id": "jutyyFENobn3"
      },
      "execution_count": null,
      "outputs": []
    },
    {
      "cell_type": "code",
      "source": [
        "df = df.drop(['customer_id','dari segmen mana','...'], axis = 1)"
      ],
      "metadata": {
        "id": "oEK-nO_8B6Ht"
      },
      "execution_count": null,
      "outputs": []
    },
    {
      "cell_type": "markdown",
      "source": [
        "... account di-takeout karena valuenya 0 semua"
      ],
      "metadata": {
        "id": "tN_ozswR8tNt"
      }
    },
    {
      "cell_type": "code",
      "source": [
        "pd.set_option(\"display.max_columns\", None)\n",
        "df"
      ],
      "metadata": {
        "id": "Mi5LtvF4okbZ"
      },
      "execution_count": null,
      "outputs": []
    },
    {
      "cell_type": "code",
      "source": [
        "df.shape"
      ],
      "metadata": {
        "id": "8u2mQJE4PJ-I"
      },
      "execution_count": null,
      "outputs": []
    },
    {
      "cell_type": "code",
      "source": [
        "df.info()"
      ],
      "metadata": {
        "id": "cLX6CYE6omi8"
      },
      "execution_count": null,
      "outputs": []
    },
    {
      "cell_type": "code",
      "source": [
        "df.describe()"
      ],
      "metadata": {
        "id": "tRsvw6yTooGR"
      },
      "execution_count": null,
      "outputs": []
    },
    {
      "cell_type": "code",
      "source": [
        "df['label'].unique()"
      ],
      "metadata": {
        "id": "2XxqFlppQC7Q"
      },
      "execution_count": null,
      "outputs": []
    },
    {
      "cell_type": "code",
      "source": [
        "df['label'].value_counts()"
      ],
      "metadata": {
        "id": "85qofCLbQ6o0"
      },
      "execution_count": null,
      "outputs": []
    },
    {
      "cell_type": "code",
      "source": [
        "num_columns = ['...'\n",
        "]\n",
        "\n",
        "cat_columns = ['...']"
      ],
      "metadata": {
        "id": "ITUWd0pVHgZC"
      },
      "execution_count": null,
      "outputs": []
    },
    {
      "cell_type": "markdown",
      "source": [
        "#EDA"
      ],
      "metadata": {
        "id": "jole_SpRRnN-"
      }
    },
    {
      "cell_type": "markdown",
      "source": [
        "##Correlation Heatmap"
      ],
      "metadata": {
        "id": "LkbYHjR9RF8G"
      }
    },
    {
      "cell_type": "code",
      "source": [
        "plt.figure(figsize=(20,15))\n",
        "heatmap = sns.heatmap(df.corr(), vmin=-1, vmax=1, annot=True, fmt=\".2f\", linewidth=.5, cmap=\"crest\")\n",
        "heatmap.set_title('Correlation Heatmap', fontdict={'fontsize':12}, pad=12)"
      ],
      "metadata": {
        "id": "NPRoEBHfo7Ff"
      },
      "execution_count": null,
      "outputs": []
    },
    {
      "cell_type": "markdown",
      "source": [
        "##Attributes Histogram"
      ],
      "metadata": {
        "id": "2UGXrEY8RtVx"
      }
    },
    {
      "cell_type": "code",
      "source": [
        "df.hist(bins=30, figsize=(15,15))\n",
        "plt.show()"
      ],
      "metadata": {
        "id": "WneC0M1uo9mr"
      },
      "execution_count": null,
      "outputs": []
    },
    {
      "cell_type": "markdown",
      "source": [
        "##BoxPlot"
      ],
      "metadata": {
        "id": "tS3jcQ3K2csi"
      }
    },
    {
      "cell_type": "code",
      "source": [
        "plt.figure(figsize=(20,8))\n",
        "for i in enumerate(num_columns):\n",
        "  plt.subplot(5,5,i[0]+1)\n",
        "  sns.boxplot(x = df[i[1]]);"
      ],
      "metadata": {
        "id": "2DgNMEJwo_uX"
      },
      "execution_count": null,
      "outputs": []
    },
    {
      "cell_type": "code",
      "source": [
        "# ringkasan statistik dari kolom numerik\n",
        "df[num_columns].describe()"
      ],
      "metadata": {
        "id": "HgxOi9OGpQ5X"
      },
      "execution_count": null,
      "outputs": []
    },
    {
      "cell_type": "code",
      "source": [
        "# categorical columns\n",
        "df[cat_columns].describe()"
      ],
      "metadata": {
        "id": "-xzjKI0ypWhH"
      },
      "execution_count": null,
      "outputs": []
    },
    {
      "cell_type": "markdown",
      "source": [
        "#Data Cleansing"
      ],
      "metadata": {
        "id": "xuoc5QEXKLRH"
      }
    },
    {
      "cell_type": "markdown",
      "source": [
        "##Missing Data"
      ],
      "metadata": {
        "id": "y5Hqc_ZwKYa3"
      }
    },
    {
      "cell_type": "code",
      "source": [
        "# jumlah entry NULL di setiap kolom\n",
        "df.isna().sum()"
      ],
      "metadata": {
        "id": "wgAfJbAapYoq"
      },
      "execution_count": null,
      "outputs": []
    },
    {
      "cell_type": "markdown",
      "source": [
        "##Data Duplicate"
      ],
      "metadata": {
        "id": "biyrnYH7KUM-"
      }
    },
    {
      "cell_type": "code",
      "source": [
        "df.duplicated().sum()"
      ],
      "metadata": {
        "id": "0qDHWCWJKWKm"
      },
      "execution_count": null,
      "outputs": []
    },
    {
      "cell_type": "code",
      "source": [
        "# drop duplicated rows\n",
        "print(f'Jumlah row duplicated sebelum dihapus {df.duplicated().sum()}')\n",
        "df.drop_duplicates(inplace=True) # note: default-nya keep='First' (tidak perlu ditulis)\n",
        "print(f'Jumlah row duplicated SETELAH dihapus {df.duplicated().sum()}')"
      ],
      "metadata": {
        "id": "jDjzn73jMX44"
      },
      "execution_count": null,
      "outputs": []
    },
    {
      "cell_type": "markdown",
      "source": [
        "##Outlier Detection"
      ],
      "metadata": {
        "id": "1GDH2NYAFjVi"
      }
    },
    {
      "cell_type": "code",
      "source": [
        "from scipy import stats"
      ],
      "metadata": {
        "id": "xIDfeqDdJxMy"
      },
      "execution_count": null,
      "outputs": []
    },
    {
      "cell_type": "code",
      "source": [
        "print(f'Jumlah baris sebelum memfilter outlier: {len(df)}')\n",
        "\n",
        "filtered_entries = np.array([True] * len(df))\n",
        "\n",
        "for col in df[num_columns]:\n",
        "    zscore = abs(stats.zscore(df[col])) # hitung absolute z-scorenya\n",
        "    filtered_entries = (zscore < 3) & filtered_entries # keep yang kurang dari 3 absolute z-scorenya\n",
        "\n",
        "df = df[filtered_entries] # filter, cuma ambil yang z-scorenya dibawah 3\n",
        "\n",
        "print(f'Jumlah baris setelah memfilter outlier: {len(df)}')"
      ],
      "metadata": {
        "id": "9Xg7Ds0BJzf_"
      },
      "execution_count": null,
      "outputs": []
    },
    {
      "cell_type": "markdown",
      "source": [
        "#Feature Engineering"
      ],
      "metadata": {
        "id": "ZHb2g2HuRwm5"
      }
    },
    {
      "cell_type": "markdown",
      "source": [
        "##Label Encoding\n",
        "\n",
        "\"Class\" column is str so we need to convert the labels into a numeric form."
      ],
      "metadata": {
        "id": "x8vw_nl4R0KO"
      }
    },
    {
      "cell_type": "code",
      "source": [
        "labelencoder = LabelEncoder()\n",
        "df[\"label\"] = labelencoder.fit_transform(df['label'])\n",
        "\n",
        "df.head(400)"
      ],
      "metadata": {
        "id": "2XRDSRftpdqB"
      },
      "execution_count": null,
      "outputs": []
    },
    {
      "cell_type": "code",
      "source": [
        "df.info()"
      ],
      "metadata": {
        "id": "lI2lB6T-pfM_"
      },
      "execution_count": null,
      "outputs": []
    },
    {
      "cell_type": "code",
      "source": [
        "df['label'].value_counts()"
      ],
      "metadata": {
        "id": "hmpmPeb42PwD"
      },
      "execution_count": null,
      "outputs": []
    },
    {
      "cell_type": "markdown",
      "source": [
        "#Data Splitting"
      ],
      "metadata": {
        "id": "Oy6IA_0hSSz9"
      }
    },
    {
      "cell_type": "code",
      "source": [
        "X = df.drop(['label'], axis = 1)\n",
        "y = df['label']"
      ],
      "metadata": {
        "id": "x58WkPPhmVI5"
      },
      "execution_count": null,
      "outputs": []
    },
    {
      "cell_type": "code",
      "source": [
        "X_train, X_test, y_train, y_test = train_test_split(X, y, stratify = y, test_size = 0.2, random_state = 42)"
      ],
      "metadata": {
        "id": "hlyrQXwMsxAr"
      },
      "execution_count": null,
      "outputs": []
    },
    {
      "cell_type": "markdown",
      "source": [
        "#Pipeline"
      ],
      "metadata": {
        "id": "hyxjTjp-u0nK"
      }
    },
    {
      "cell_type": "code",
      "source": [
        "# Based on EDA there are several columns that we choose for Machine Learning Modelling\n",
        "num_columns = [\n",
        "    '...'\n",
        "]\n",
        "\n",
        "cat_columns = ['...']\n",
        "\n",
        "numeric_pipeline = Pipeline([\n",
        "    ('imputer', SimpleImputer(strategy='mean')),\n",
        "    ('scaler', RobustScaler()),\n",
        "    #('poly', PolynomialFeatures(degree=3, include_bias=False)),\n",
        "    #('power', PowerTransformer(method='yeo-johnson'))\n",
        "])\n",
        "\n",
        "categoric_pipeline = Pipeline([\n",
        "    ('imputer', SimpleImputer(strategy='most_frequent')),\n",
        "    ('encoder', OneHotEncoder(handle_unknown=\"ignore\"))\n",
        "])\n",
        "\n",
        "preprocessor = ColumnTransformer([\n",
        "    ('numeric', numeric_pipeline, num_columns),\n",
        "    ('categoric', categoric_pipeline, cat_columns)\n",
        "])\n",
        "\n",
        "pipeSVM = Pipeline([\n",
        "    (\"prep\", preprocessor),\n",
        "    (\"algo\", SVC(max_iter=400, probability=True))\n",
        "])\n",
        "\n",
        "pipeLR = Pipeline([\n",
        "    (\"prep\", preprocessor),\n",
        "    (\"algo\", LogisticRegression())\n",
        "])\n",
        "\n",
        "pipeKNN = Pipeline([\n",
        "    (\"prep\", preprocessor),\n",
        "    (\"algo\", KNeighborsClassifier())\n",
        "])\n",
        "\n",
        "pipeDT = Pipeline([\n",
        "    (\"prep\", preprocessor),\n",
        "    (\"algo\", DecisionTreeClassifier())\n",
        "])\n",
        "\n",
        "pipeRF = Pipeline([\n",
        "    (\"prep\", preprocessor),\n",
        "    (\"algo\", RandomForestClassifier())\n",
        "])\n",
        "\n",
        "pipeXG = Pipeline([\n",
        "    (\"prep\", preprocessor),\n",
        "    (\"algo\", xgb.XGBClassifier())\n",
        "])"
      ],
      "metadata": {
        "id": "1QweWQuAsw5D"
      },
      "execution_count": null,
      "outputs": []
    },
    {
      "cell_type": "markdown",
      "source": [
        "#Base Model (KNN)"
      ],
      "metadata": {
        "id": "yJw6RLKEvaj2"
      }
    },
    {
      "cell_type": "code",
      "source": [
        "pipeKNN.fit(X_train, y_train)"
      ],
      "metadata": {
        "id": "k20hk3jAmVGn"
      },
      "execution_count": null,
      "outputs": []
    },
    {
      "cell_type": "code",
      "source": [
        "y_KNN_train = pipeKNN.predict(X_train)"
      ],
      "metadata": {
        "id": "gpy3mXtjmVEC"
      },
      "execution_count": null,
      "outputs": []
    },
    {
      "cell_type": "code",
      "source": [
        "y_KNN_test = pipeKNN.predict(X_test)"
      ],
      "metadata": {
        "id": "4dmQuQswmVBZ"
      },
      "execution_count": null,
      "outputs": []
    },
    {
      "cell_type": "code",
      "source": [
        "accuracy_train_KNN_base = accuracy_score(y_train, y_KNN_train)\n",
        "accuracy_train_KNN_base"
      ],
      "metadata": {
        "id": "pG1Z0LW-mU-b"
      },
      "execution_count": null,
      "outputs": []
    },
    {
      "cell_type": "code",
      "source": [
        "accuracy_test_KNN_base = accuracy_score(y_test, y_KNN_test)\n",
        "accuracy_test_KNN_base"
      ],
      "metadata": {
        "id": "mr9ZOTPLmU7j"
      },
      "execution_count": null,
      "outputs": []
    },
    {
      "cell_type": "code",
      "source": [
        "f1score_train_KNN_base = f1_score(y_train, y_KNN_train, average='weighted')\n",
        "f1score_train_KNN_base"
      ],
      "metadata": {
        "id": "kpTOeomOmU5E"
      },
      "execution_count": null,
      "outputs": []
    },
    {
      "cell_type": "code",
      "source": [
        "f1score_test_KNN_base = f1_score(y_test, y_KNN_test, average='weighted')\n",
        "f1score_test_KNN_base"
      ],
      "metadata": {
        "id": "Hdt_qIXEv2L4"
      },
      "execution_count": null,
      "outputs": []
    },
    {
      "cell_type": "code",
      "source": [
        "print(classification_report(y_test, y_KNN_test))"
      ],
      "metadata": {
        "id": "rQ1XSsvRv2JY"
      },
      "execution_count": null,
      "outputs": []
    },
    {
      "cell_type": "code",
      "source": [
        "# Plotting the confusion matrix\n",
        "from sklearn.metrics import confusion_matrix\n",
        "cm = confusion_matrix(y_test, y_KNN_test)\n",
        "plt.figure(figsize = (10, 8))\n",
        "sns.heatmap(cm, annot = True, fmt = '.0f', linewidths = .5, square = True)\n",
        "plt.xlabel('Predicted labels')\n",
        "plt.ylabel('Actual labels')\n",
        "plt.title('Accuracy: {0}'.format(round(accuracy_test_KNN_base, 2)))\n",
        "plt.show()"
      ],
      "metadata": {
        "id": "0b7_VhjR3Ey5"
      },
      "execution_count": null,
      "outputs": []
    },
    {
      "cell_type": "markdown",
      "source": [
        "#Base Model Logistic Regression"
      ],
      "metadata": {
        "id": "2OSqR6IewEiK"
      }
    },
    {
      "cell_type": "code",
      "source": [
        "pipeLR.fit(X_train, y_train)"
      ],
      "metadata": {
        "id": "VtQ8aKfNv2HZ"
      },
      "execution_count": null,
      "outputs": []
    },
    {
      "cell_type": "code",
      "source": [
        "y_LR_train = pipeLR.predict(X_train)"
      ],
      "metadata": {
        "id": "qtAT4Bm6v2FA"
      },
      "execution_count": null,
      "outputs": []
    },
    {
      "cell_type": "code",
      "source": [
        "y_LR_test = pipeLR.predict(X_test)"
      ],
      "metadata": {
        "id": "SvSzxvVvv2B1"
      },
      "execution_count": null,
      "outputs": []
    },
    {
      "cell_type": "code",
      "source": [
        "accuracy_train_LR_base = accuracy_score(y_train, y_LR_train)\n",
        "accuracy_train_LR_base"
      ],
      "metadata": {
        "id": "OtvWLoIzv1_N"
      },
      "execution_count": null,
      "outputs": []
    },
    {
      "cell_type": "code",
      "source": [
        "accuracy_test_LR_base = accuracy_score(y_test, y_LR_test)\n",
        "accuracy_test_LR_base"
      ],
      "metadata": {
        "id": "h2i6KrIqv18i"
      },
      "execution_count": null,
      "outputs": []
    },
    {
      "cell_type": "code",
      "source": [
        "f1score_train_LR_base = f1_score(y_train, y_LR_train, average='weighted')\n",
        "f1score_train_LR_base"
      ],
      "metadata": {
        "id": "Z7lawdOPv16D"
      },
      "execution_count": null,
      "outputs": []
    },
    {
      "cell_type": "code",
      "source": [
        "f1score_test_LR_base = f1_score(y_test, y_LR_test, average='weighted')\n",
        "f1score_test_LR_base"
      ],
      "metadata": {
        "id": "-Z1i20ykwUnT"
      },
      "execution_count": null,
      "outputs": []
    },
    {
      "cell_type": "code",
      "source": [
        "print(classification_report(y_test, y_LR_test))"
      ],
      "metadata": {
        "id": "vD528T23wUkk"
      },
      "execution_count": null,
      "outputs": []
    },
    {
      "cell_type": "code",
      "source": [
        "# Plotting the confusion matrix\n",
        "from sklearn.metrics import confusion_matrix\n",
        "cm = confusion_matrix(y_test, y_LR_test)\n",
        "plt.figure(figsize = (10, 8))\n",
        "sns.heatmap(cm, annot = True, fmt = '.0f', linewidths = .5, square = True)\n",
        "plt.xlabel('Predicted labels')\n",
        "plt.ylabel('Actual labels')\n",
        "plt.title('Accuracy: {0}'.format(round(accuracy_test_LR_base, 2)))\n",
        "plt.show()"
      ],
      "metadata": {
        "id": "nbiwqCrowUh8"
      },
      "execution_count": null,
      "outputs": []
    },
    {
      "cell_type": "markdown",
      "source": [
        "#Base Model SVM"
      ],
      "metadata": {
        "id": "2HrA9Wnpx4Qm"
      }
    },
    {
      "cell_type": "code",
      "source": [
        "pipeSVM.fit(X_train, y_train)"
      ],
      "metadata": {
        "id": "Uqh55WepwUff"
      },
      "execution_count": null,
      "outputs": []
    },
    {
      "cell_type": "code",
      "source": [
        "y_SVM_train = pipeSVM.predict(X_train)"
      ],
      "metadata": {
        "id": "wLRjvYNuxoAl"
      },
      "execution_count": null,
      "outputs": []
    },
    {
      "cell_type": "code",
      "source": [
        "y_SVM_test = pipeSVM.predict(X_test)"
      ],
      "metadata": {
        "id": "gDcVmTFaxn9D"
      },
      "execution_count": null,
      "outputs": []
    },
    {
      "cell_type": "code",
      "source": [
        "accuracy_train_SVM_base = accuracy_score(y_train, y_SVM_train)\n",
        "accuracy_train_SVM_base"
      ],
      "metadata": {
        "id": "BpC1Gyqtxn5j"
      },
      "execution_count": null,
      "outputs": []
    },
    {
      "cell_type": "code",
      "source": [
        "accuracy_test_SVM_base = accuracy_score(y_test, y_SVM_test)\n",
        "accuracy_test_SVM_base"
      ],
      "metadata": {
        "id": "hmNLmAh3xn2n"
      },
      "execution_count": null,
      "outputs": []
    },
    {
      "cell_type": "code",
      "source": [
        "f1score_train_SVM_base = f1_score(y_train, y_SVM_train, average='weighted')\n",
        "f1score_train_SVM_base"
      ],
      "metadata": {
        "id": "xqV7rjmtxnz4"
      },
      "execution_count": null,
      "outputs": []
    },
    {
      "cell_type": "code",
      "source": [
        "f1score_test_SVM_base = f1_score(y_test, y_SVM_test, average='weighted')\n",
        "f1score_test_SVM_base"
      ],
      "metadata": {
        "id": "DU0Wz4Ylxnw8"
      },
      "execution_count": null,
      "outputs": []
    },
    {
      "cell_type": "code",
      "source": [
        "print(classification_report(y_test, y_SVM_test))"
      ],
      "metadata": {
        "id": "nrYg-pBjxnuB"
      },
      "execution_count": null,
      "outputs": []
    },
    {
      "cell_type": "code",
      "source": [
        "# Plotting the confusion matrix\n",
        "from sklearn.metrics import confusion_matrix\n",
        "cm = confusion_matrix(y_test, y_SVM_test)\n",
        "plt.figure(figsize = (10, 8))\n",
        "sns.heatmap(cm, annot = True, fmt = '.0f', linewidths = .5, square = True)\n",
        "plt.xlabel('Predicted labels')\n",
        "plt.ylabel('Actual labels')\n",
        "plt.title('Accuracy: {0}'.format(round(accuracy_test_SVM_base, 2)))\n",
        "plt.show()"
      ],
      "metadata": {
        "id": "JTnnKRtZxnry"
      },
      "execution_count": null,
      "outputs": []
    },
    {
      "cell_type": "markdown",
      "source": [
        "#Base Model (DecisionTreeClassifier)"
      ],
      "metadata": {
        "id": "O50Sv1TT0NWh"
      }
    },
    {
      "cell_type": "code",
      "source": [
        "pipeDT.fit(X_train, y_train)"
      ],
      "metadata": {
        "id": "ppZOBlNcxnoe"
      },
      "execution_count": null,
      "outputs": []
    },
    {
      "cell_type": "code",
      "source": [
        "y_DT_train = pipeDT.predict(X_train)"
      ],
      "metadata": {
        "id": "dqD0C-8bxnlq"
      },
      "execution_count": null,
      "outputs": []
    },
    {
      "cell_type": "code",
      "source": [
        "y_DT_test = pipeDT.predict(X_test)"
      ],
      "metadata": {
        "id": "vEeReR-mwUcl"
      },
      "execution_count": null,
      "outputs": []
    },
    {
      "cell_type": "code",
      "source": [
        "accuracy_train_DT_base = accuracy_score(y_train, y_DT_train)\n",
        "accuracy_train_DT_base"
      ],
      "metadata": {
        "id": "8sW1ClrCwUZ6"
      },
      "execution_count": null,
      "outputs": []
    },
    {
      "cell_type": "code",
      "source": [
        "accuracy_test_DT_base = accuracy_score(y_test, y_DT_test)\n",
        "accuracy_test_DT_base"
      ],
      "metadata": {
        "id": "P4gfZONRwUXN"
      },
      "execution_count": null,
      "outputs": []
    },
    {
      "cell_type": "code",
      "source": [
        "f1score_train_DT_base = f1_score(y_train, y_DT_train, average='weighted')\n",
        "f1score_train_DT_base"
      ],
      "metadata": {
        "id": "tQocVzfWwUUf"
      },
      "execution_count": null,
      "outputs": []
    },
    {
      "cell_type": "code",
      "source": [
        "f1score_test_DT_base = f1_score(y_test, y_DT_test, average='weighted')\n",
        "f1score_test_DT_base"
      ],
      "metadata": {
        "id": "KpWhudHswUSS"
      },
      "execution_count": null,
      "outputs": []
    },
    {
      "cell_type": "code",
      "source": [
        "print(classification_report(y_test, y_DT_test))"
      ],
      "metadata": {
        "id": "sCp6nz0twUPQ"
      },
      "execution_count": null,
      "outputs": []
    },
    {
      "cell_type": "code",
      "source": [
        "# Plotting the confusion matrix\n",
        "from sklearn.metrics import confusion_matrix\n",
        "cm = confusion_matrix(y_test, y_DT_test)\n",
        "plt.figure(figsize = (10, 8))\n",
        "sns.heatmap(cm, annot = True, fmt = '.0f', linewidths = .5, square = True)\n",
        "plt.xlabel('Predicted labels')\n",
        "plt.ylabel('Actual labels')\n",
        "plt.title('Accuracy: {0}'.format(round(accuracy_test_DT_base, 2)))\n",
        "plt.show()"
      ],
      "metadata": {
        "id": "U8SKZ0mz0eGP"
      },
      "execution_count": null,
      "outputs": []
    },
    {
      "cell_type": "markdown",
      "source": [
        "#Base Model (Random Forest Classifier)"
      ],
      "metadata": {
        "id": "G31Ya-bx0rBg"
      }
    },
    {
      "cell_type": "code",
      "source": [
        "pipeRF.fit(X_train, y_train)"
      ],
      "metadata": {
        "id": "GcpQWHvc0eDq"
      },
      "execution_count": null,
      "outputs": []
    },
    {
      "cell_type": "code",
      "source": [
        "y_RF_train = pipeRF.predict(X_train)"
      ],
      "metadata": {
        "id": "iW-M4Vja0eA7"
      },
      "execution_count": null,
      "outputs": []
    },
    {
      "cell_type": "code",
      "source": [
        "y_RF_test = pipeRF.predict(X_test)"
      ],
      "metadata": {
        "id": "CoPapO3K0d-l"
      },
      "execution_count": null,
      "outputs": []
    },
    {
      "cell_type": "code",
      "source": [
        "accuracy_train_RF_base = accuracy_score(y_train, y_RF_train)\n",
        "accuracy_train_RF_base"
      ],
      "metadata": {
        "id": "76t7ndt70d7y"
      },
      "execution_count": null,
      "outputs": []
    },
    {
      "cell_type": "code",
      "source": [
        "accuracy_test_RF_base = accuracy_score(y_test, y_RF_test)\n",
        "accuracy_test_RF_base"
      ],
      "metadata": {
        "id": "2RyHVuaL0d5Q"
      },
      "execution_count": null,
      "outputs": []
    },
    {
      "cell_type": "code",
      "source": [
        "f1score_train_RF_base = f1_score(y_train, y_RF_train, average='weighted')\n",
        "f1score_train_RF_base"
      ],
      "metadata": {
        "id": "k2Z9MqvW0d2V"
      },
      "execution_count": null,
      "outputs": []
    },
    {
      "cell_type": "code",
      "source": [
        "f1score_test_RF_base = f1_score(y_test, y_RF_test, average='weighted')\n",
        "f1score_test_RF_base"
      ],
      "metadata": {
        "id": "P_BwOxvy0dzh"
      },
      "execution_count": null,
      "outputs": []
    },
    {
      "cell_type": "code",
      "source": [
        "print(classification_report(y_test, y_RF_test))"
      ],
      "metadata": {
        "id": "PBjzdWKwwUMb"
      },
      "execution_count": null,
      "outputs": []
    },
    {
      "cell_type": "code",
      "source": [
        "# Plotting the confusion matrix\n",
        "from sklearn.metrics import confusion_matrix\n",
        "cm = confusion_matrix(y_test, y_RF_test)\n",
        "plt.figure(figsize = (10, 8))\n",
        "sns.heatmap(cm, annot = True, fmt = '.0f', linewidths = .5, square = True)\n",
        "plt.xlabel('Predicted labels')\n",
        "plt.ylabel('Actual labels')\n",
        "plt.title('Accuracy: {0}'.format(round(accuracy_test_RF_base, 2)))\n",
        "plt.show()"
      ],
      "metadata": {
        "id": "fiUPdoVD04s_"
      },
      "execution_count": null,
      "outputs": []
    },
    {
      "cell_type": "markdown",
      "source": [
        "#Base Model (XGBoost Classifier)"
      ],
      "metadata": {
        "id": "hXV3fi0dPRCr"
      }
    },
    {
      "cell_type": "code",
      "source": [
        "pipeXG.fit(X_train, y_train)"
      ],
      "metadata": {
        "id": "vbnXkbI004rA"
      },
      "execution_count": null,
      "outputs": []
    },
    {
      "cell_type": "code",
      "source": [
        "y_XG_train = pipeXG.predict(X_train)"
      ],
      "metadata": {
        "id": "t5uTxZTD04mk"
      },
      "execution_count": null,
      "outputs": []
    },
    {
      "cell_type": "code",
      "source": [
        "y_XG_test = pipeXG.predict(X_test)"
      ],
      "metadata": {
        "id": "xcLTWnmK04kS"
      },
      "execution_count": null,
      "outputs": []
    },
    {
      "cell_type": "code",
      "source": [
        "accuracy_train_XG_base = accuracy_score(y_train, y_XG_train)\n",
        "accuracy_train_XG_base"
      ],
      "metadata": {
        "id": "xWLwiwzX04hy"
      },
      "execution_count": null,
      "outputs": []
    },
    {
      "cell_type": "code",
      "source": [
        "accuracy_test_XG_base = accuracy_score(y_test, y_XG_test)\n",
        "accuracy_test_XG_base"
      ],
      "metadata": {
        "id": "Hb0u0Jdb04fi"
      },
      "execution_count": null,
      "outputs": []
    },
    {
      "cell_type": "code",
      "source": [
        "f1score_train_XG_base = f1_score(y_train, y_XG_train, average='weighted')\n",
        "f1score_train_XG_base"
      ],
      "metadata": {
        "id": "i4xURJzu04db"
      },
      "execution_count": null,
      "outputs": []
    },
    {
      "cell_type": "code",
      "source": [
        "f1score_test_XG_base = f1_score(y_test, y_XG_test, average='weighted')\n",
        "f1score_test_XG_base"
      ],
      "metadata": {
        "id": "Z7GJxT9d04ZR"
      },
      "execution_count": null,
      "outputs": []
    },
    {
      "cell_type": "code",
      "source": [
        "print(classification_report(y_test, y_XG_test))"
      ],
      "metadata": {
        "id": "VG0ZAPJW04WJ"
      },
      "execution_count": null,
      "outputs": []
    },
    {
      "cell_type": "code",
      "source": [
        "# Plotting the confusion matrix\n",
        "from sklearn.metrics import confusion_matrix\n",
        "cm = confusion_matrix(y_test, y_XG_test)\n",
        "plt.figure(figsize = (10, 8))\n",
        "sns.heatmap(cm, annot = True, fmt = '.0f', linewidths = .5, square = True)\n",
        "plt.xlabel('Predicted labels')\n",
        "plt.ylabel('Actual labels')\n",
        "plt.title('Accuracy: {0}'.format(round(accuracy_test_XG_base, 2)))\n",
        "plt.show()"
      ],
      "metadata": {
        "id": "pysGBUR2wUJk"
      },
      "execution_count": null,
      "outputs": []
    },
    {
      "cell_type": "markdown",
      "source": [
        "#Predict"
      ],
      "metadata": {
        "id": "A61kx0UO3xdh"
      }
    },
    {
      "cell_type": "markdown",
      "source": [
        "##Save Model"
      ],
      "metadata": {
        "id": "0hdQfaJMXBGt"
      }
    },
    {
      "cell_type": "code",
      "source": [
        "import pickle"
      ],
      "metadata": {
        "id": "1G-6kYDenTbw"
      },
      "execution_count": null,
      "outputs": []
    },
    {
      "cell_type": "code",
      "source": [
        "# Simpan model ke file\n",
        "with open('pipeLR.pkl', 'wb') as file:\n",
        "    pickle.dump(pipeLR, file)"
      ],
      "metadata": {
        "id": "5I9_jFmZnTZ1"
      },
      "execution_count": null,
      "outputs": []
    },
    {
      "cell_type": "code",
      "source": [
        "# Memuat model dari file\n",
        "with open('pipeLR.pkl', 'rb') as file:\n",
        "    loaded_model = pickle.load(file)"
      ],
      "metadata": {
        "id": "aIJ0SZa5nTXs"
      },
      "execution_count": null,
      "outputs": []
    },
    {
      "cell_type": "code",
      "source": [
        "sh1 = gc.open_by_url(\"...\")\n",
        "ws1 = sh1.worksheet('...')"
      ],
      "metadata": {
        "id": "vEotPT3fo5Tg"
      },
      "execution_count": null,
      "outputs": []
    },
    {
      "cell_type": "code",
      "source": [
        "X_new = pd.DataFrame(ws1.get_all_records())\n",
        "pd.set_option(\"display.max_columns\", None)\n",
        "X_new.head()"
      ],
      "metadata": {
        "id": "xaq3wPCwqHBm"
      },
      "execution_count": null,
      "outputs": []
    },
    {
      "cell_type": "markdown",
      "source": [
        "##Model Prediction"
      ],
      "metadata": {
        "id": "0xlnpILb3rq5"
      }
    },
    {
      "cell_type": "code",
      "source": [
        "# Melakukan prediksi pada data baru\n",
        "predictions = loaded_model.predict(X_new)"
      ],
      "metadata": {
        "id": "4y4E7gKunTTi"
      },
      "execution_count": null,
      "outputs": []
    },
    {
      "cell_type": "code",
      "source": [
        "predictions"
      ],
      "metadata": {
        "id": "Sz3jpEt9uhgV"
      },
      "execution_count": null,
      "outputs": []
    },
    {
      "cell_type": "code",
      "source": [
        "X_new['predictions'] = predictions"
      ],
      "metadata": {
        "id": "u2DbYNB-1ZP7"
      },
      "execution_count": null,
      "outputs": []
    },
    {
      "cell_type": "code",
      "source": [
        "proba = loaded_model.predict_proba(X_new)"
      ],
      "metadata": {
        "id": "tz58sodkFMGV"
      },
      "execution_count": null,
      "outputs": []
    },
    {
      "cell_type": "code",
      "source": [
        "proba"
      ],
      "metadata": {
        "id": "Erpnn6oiFMCs"
      },
      "execution_count": null,
      "outputs": []
    },
    {
      "cell_type": "code",
      "source": [
        "# Menggabungkan probabilitas dengan dataset awal\n",
        "combined_data = np.concatenate((X_new, proba), axis=1)\n",
        "\n",
        "# Membuat dataframe dari data yang digabungkan\n",
        "columns = ['...'] + ['Probabilitas Kelas 1', 'Probabilitas Kelas 2', 'Probabilitas Kelas 3','Probabilitas Kelas 4']\n",
        "df_combined = pd.DataFrame(data=combined_data, columns=columns)\n",
        "\n",
        "# Menampilkan dataframe yang telah digabungkan\n",
        "print(df_combined)"
      ],
      "metadata": {
        "id": "3IkyAzfeqRYQ"
      },
      "execution_count": null,
      "outputs": []
    },
    {
      "cell_type": "code",
      "source": [
        "df_combined"
      ],
      "metadata": {
        "id": "ahcIlaboqi-F"
      },
      "execution_count": null,
      "outputs": []
    },
    {
      "cell_type": "markdown",
      "source": [
        "##Export ke google drive"
      ],
      "metadata": {
        "id": "rqN16bO_4F1s"
      }
    },
    {
      "cell_type": "code",
      "source": [
        "# Menyimpan DataFrame ke file Excel\n",
        "df_combined.to_excel('predicted.xlsx', index=False)"
      ],
      "metadata": {
        "id": "wiY8Vzf18OsR"
      },
      "execution_count": null,
      "outputs": []
    },
    {
      "cell_type": "code",
      "source": [
        "print(\"Done\")"
      ],
      "metadata": {
        "id": "3rxC-g1ORFWZ",
        "colab": {
          "base_uri": "https://localhost:8080/"
        },
        "outputId": "d8547525-463e-44ec-9eaf-f1bb0209ab58"
      },
      "execution_count": null,
      "outputs": [
        {
          "output_type": "stream",
          "name": "stdout",
          "text": [
            "Done\n"
          ]
        }
      ]
    }
  ]
}